{
 "cells": [
  {
   "cell_type": "code",
   "execution_count": 3,
   "id": "2d531100",
   "metadata": {},
   "outputs": [],
   "source": [
    "#!/usr/bin/env python\n",
    "# coding: utf-8\n",
    "\n",
    "# In[ ]:\n",
    "\n",
    "\n",
    "import json \n",
    "import fiona\n",
    "from osgeo import ogr, gdal\n",
    "\n",
    "\n",
    "def create_polygon(coords):\n",
    "    ring = ogr.Geometry(ogr.wkbLinearRing)\n",
    "    for coord in coords:\n",
    "        for xy in coord:\n",
    "            ring.AddPoint(xy[0],xy[1])\n",
    "            poly = ogr.Geometry(ogr.wkbPolygon)\n",
    "            poly.AddGeometry(ring)\n",
    "    return poly.ExportToIsoWkt()\n",
    "\n",
    "def create_shp_with_geojson(json,geo_type):\n",
    "    count = 0 \n",
    "    gdal.SetConfigOption(\"GDAL_FILENAME_IS_UTF8\", \"YES\")\n",
    "    gdal.SetConfigOption(\"SHAPE_ENCODING\", \"UTF-8\")\n",
    "    driver = ogr.GetDriverByName(\"ESRI Shapefile\")\n",
    "    properties_temp=list(json['features'][0]['properties'])\n",
    "    \n",
    "    if geo_type=='Polygon' or geo_type=='MultiPolygon':\n",
    "        #修改的地方\n",
    "        schema = {\n",
    "            'geometry':'Polygon',\n",
    "        }\n",
    "        Shp = fiona.open('C:/Users/timchen/Desktop/notu class/專題/geojson_to_shapefile/cropPolygon.shp', mode='w', driver='ESRI Shapefile',\n",
    "        schema = schema, crs = \"EPSG:4326\")\n",
    "    elif geo_type=='Point': #建立shapefile的檔案名稱,屬性表格格式\n",
    "        #修改的地方\n",
    "        schema = {\n",
    "            'geometry':'Point',\n",
    "            'properties':[('Name','str')]\n",
    "        }\n",
    "        Shp = fiona.open('C:/Users/timchen/Desktop/notu class/專題/geojson_to_shapefile/cropPoints.shp', mode='w', driver='ESRI Shapefile',\n",
    "        schema = schema, crs = \"EPSG:4326\") \n",
    "    elif geo_type == 'LineString':\n",
    "        #修改的地方\n",
    "        schema = {\n",
    "            'geometry':'LineString',\n",
    "            'properties':[('Name','str')]\n",
    "        }        \n",
    "        Shp = fiona.open('C:/Users/timchen/Desktop/notu class/專題/geojson_to_shapefilecropLineString.shp', mode='w', driver='ESRI Shapefile',\n",
    "        schema = schema, crs = \"EPSG:4326\")\n",
    "        \n",
    "        \n",
    "    for record in json['features']:\n",
    "        #print(record)\n",
    "        geo = record.get(\"geometry\")\n",
    "        geo_type = geo.get('type')\n",
    "        temp=list(record['properties'])\n",
    "        if geo_type == 'Polygon':\n",
    "            #修改的地方\n",
    "            xyList = []\n",
    "            for i in range(len(record['geometry']['coordinates'][0])):\n",
    "                xyList.append(record['geometry']['coordinates'][0][i])\n",
    "            rowDict = {\n",
    "                'geometry' : {'type':'Polygon',\n",
    "                'coordinates': [xyList]}, \n",
    "            }\n",
    "            try : \n",
    "                Shp.write(rowDict)\n",
    "                count+=1\n",
    "            except :\n",
    "                 print(\"does not write in \")\n",
    "                    \n",
    "        elif geo_type == 'MultiPolygon':\n",
    "            xyList = []\n",
    "            for y in range(len(record['geometry']['coordinates'])):          \n",
    "                for i in range(len(record['geometry']['coordinates'][y])):\n",
    "                        xyList.append(record['geometry']['coordinates'][y][i])\n",
    "                        rowDict = {\n",
    "                                    'geometry' : {'type':'Polygon',\n",
    "                                    'coordinates': [xyList]}, \n",
    "                        }\n",
    "                try : \n",
    "                    Shp.write(rowDict)\n",
    "                    count+=1\n",
    "                except :\n",
    "                     print(\"does not write in \")\n",
    "        elif geo_type == 'Point':\n",
    "            #修改的地方\n",
    " \n",
    "            ex = record['geometry']['coordinates']\n",
    "            rowDict = {\n",
    "                'geometry' : {'type':'Point',\n",
    "                'coordinates': ex },\n",
    "                'properties': {'Name' : record['properties']['NAME_C']},\n",
    "            }\n",
    "            try : \n",
    "                Shp.write(rowDict)\n",
    "                count+=1\n",
    "            except :\n",
    "                 print(\"does not write in \")\n",
    "            #print(rowDict)\n",
    "            \n",
    "        elif geo_type == 'LineString':\n",
    "            #修改的地方\n",
    "            xyList = []\n",
    "            for i in range(len(record['geometry']['coordinates'][0])):\n",
    "                xyList.append(record['geometry']['coordinates'][0][i])\n",
    "            rowDict = {\n",
    "                'geometry' : {'type':'Polygon',\n",
    "                'coordinates': [xyList]}, \n",
    "            }\n",
    "            try : \n",
    "                Shp.write(rowDict)\n",
    "                count+=1\n",
    "            except :\n",
    "                 print(\"does not write in \")\n",
    "        else:\n",
    "            print('Could not discern geometry')\n",
    "\n",
    "    print(\"total data input : \" ,count)\n",
    "    Shp.close()"
   ]
  },
  {
   "cell_type": "code",
   "execution_count": 4,
   "id": "c0fe238f",
   "metadata": {},
   "outputs": [
    {
     "name": "stdout",
     "output_type": "stream",
     "text": [
      "total data input :  90\n"
     ]
    }
   ],
   "source": [
    "with open(r\"C:/Users/timchen/Desktop/notu class/專題/geojson_to_shapefile/地下水觀測井位置圖_彰化縣現存站.json\", encoding=\"UTF-8\") as jsonfile: #讀取json檔案\n",
    "    data = json.load(jsonfile)\n",
    "    geo_type=str(data['features'][0]['geometry']['type'])\n",
    "    temp=list(data['features'][0]['properties'])\n",
    "    #print(temp)\n",
    "    create_shp_with_geojson(data,geo_type)"
   ]
  },
  {
   "cell_type": "code",
   "execution_count": 5,
   "id": "455126ae",
   "metadata": {},
   "outputs": [
    {
     "name": "stdout",
     "output_type": "stream",
     "text": [
      "     Name                    geometry\n",
      "0   國聖(1)  POINT (120.56913 24.09266)\n",
      "1   國聖(2)  POINT (120.56913 24.09266)\n",
      "2   國聖(3)  POINT (120.56913 24.09266)\n",
      "3   東芳(1)  POINT (120.51599 24.06277)\n",
      "4   東芳(2)  POINT (120.51599 24.06277)\n",
      "..    ...                         ...\n",
      "85  下柑(2)  POINT (120.55074 23.82143)\n",
      "86     過溪  POINT (120.57213 23.81033)\n",
      "87     榮光  POINT (120.60506 23.81508)\n",
      "88  溪州(1)  POINT (120.50126 23.85506)\n",
      "89  溪州(2)  POINT (120.50126 23.85506)\n",
      "\n",
      "[90 rows x 2 columns]\n"
     ]
    },
    {
     "name": "stderr",
     "output_type": "stream",
     "text": [
      "C:\\Users\\timchen\\AppData\\Local\\Programs\\Python\\Python310\\lib\\site-packages\\geopandas\\geodataframe.py:35: ShapelyDeprecationWarning: The array interface is deprecated and will no longer work in Shapely 2.0. Convert the '.coords' to a numpy array instead.\n",
      "  out = from_shapely(data)\n"
     ]
    }
   ],
   "source": [
    "import geopandas as gpd\n",
    "gdf_Rail=gpd.read_file(r'C:/Users/timchen/Desktop/notu class/專題/geojson_to_shapefile/cropPoints.shp',decoding='utf-8', newline='')            \n",
    "    #print(shpReader)\n",
    "print(gdf_Rail)"
   ]
  },
  {
   "cell_type": "code",
   "execution_count": 9,
   "id": "522e038e",
   "metadata": {},
   "outputs": [
    {
     "name": "stdout",
     "output_type": "stream",
     "text": [
      "total data input :  1\n"
     ]
    }
   ],
   "source": [
    "with open(r\"C:/Users/timchen/Desktop/notu class/專題/geojson_to_shapefile/choushui_twd97.json\", encoding=\"UTF-8\") as jsonfile: #讀取json檔案\n",
    "    data = json.load(jsonfile)\n",
    "    geo_type=str(data['features'][0]['geometry']['type'])\n",
    "    temp=list(data['features'][0]['properties'])\n",
    "    #print(temp)\n",
    "    create_shp_with_geojson(data,geo_type)"
   ]
  },
  {
   "cell_type": "code",
   "execution_count": 11,
   "id": "03699eaa",
   "metadata": {},
   "outputs": [
    {
     "name": "stdout",
     "output_type": "stream",
     "text": [
      "   FID                                           geometry\n",
      "0    0  POLYGON ((120.44078 24.15664, 120.46561 24.159...\n"
     ]
    }
   ],
   "source": [
    "import geopandas as gpd\n",
    "gdf_Rail=gpd.read_file(r\"C:/Users/timchen/Desktop/notu class/專題/geojson_to_shapefile/cropPolygon.shp\",decoding='utf-8', newline='')            \n",
    "    #print(shpReader)\n",
    "print(gdf_Rail)"
   ]
  },
  {
   "cell_type": "code",
   "execution_count": null,
   "id": "44dd4f03",
   "metadata": {},
   "outputs": [],
   "source": []
  }
 ],
 "metadata": {
  "kernelspec": {
   "display_name": "Python 3 (ipykernel)",
   "language": "python",
   "name": "python3"
  },
  "language_info": {
   "codemirror_mode": {
    "name": "ipython",
    "version": 3
   },
   "file_extension": ".py",
   "mimetype": "text/x-python",
   "name": "python",
   "nbconvert_exporter": "python",
   "pygments_lexer": "ipython3",
   "version": "3.10.1"
  }
 },
 "nbformat": 4,
 "nbformat_minor": 5
}
